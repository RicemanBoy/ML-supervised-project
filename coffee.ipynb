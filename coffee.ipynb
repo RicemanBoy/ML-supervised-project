{
 "cells": [
  {
   "cell_type": "code",
   "execution_count": 4,
   "id": "00a26437",
   "metadata": {},
   "outputs": [],
   "source": [
    "import numpy as np\n",
    "import pandas as pd\n",
    "import matplotlib.pyplot as plt"
   ]
  },
  {
   "cell_type": "code",
   "execution_count": 6,
   "id": "ee3cce28",
   "metadata": {},
   "outputs": [
    {
     "name": "stdout",
     "output_type": "stream",
     "text": [
      "First 5 records:    ID  Age  Gender  Country  Coffee_Intake  Caffeine_mg  Sleep_Hours  \\\n",
      "0   1   40    Male  Germany            3.5        328.1          7.5   \n",
      "1   2   33    Male  Germany            1.0         94.1          6.2   \n",
      "2   3   42    Male   Brazil            5.3        503.7          5.9   \n",
      "3   4   53    Male  Germany            2.6        249.2          7.3   \n",
      "4   5   32  Female    Spain            3.1        298.0          5.3   \n",
      "\n",
      "  Sleep_Quality   BMI  Heart_Rate Stress_Level  Physical_Activity_Hours  \\\n",
      "0          Good  24.9          78          Low                     14.5   \n",
      "1          Good  20.0          67          Low                     11.0   \n",
      "2          Fair  22.7          59       Medium                     11.2   \n",
      "3          Good  24.7          71          Low                      6.6   \n",
      "4          Fair  24.1          76       Medium                      8.5   \n",
      "\n",
      "  Health_Issues Occupation  Smoking  Alcohol_Consumption  \n",
      "0           NaN      Other        0                    0  \n",
      "1           NaN    Service        0                    0  \n",
      "2          Mild     Office        0                    0  \n",
      "3          Mild      Other        0                    0  \n",
      "4          Mild    Student        0                    1  \n"
     ]
    }
   ],
   "source": [
    "# Set the path to the file you'd like to load\n",
    "file_path = \"dataset/synthetic_coffee_health_10000.csv\"\n",
    "\n",
    "# Load the latest version\n",
    "df = pd.read_csv(file_path)\n",
    "\n",
    "print(\"First 5 records:\", df.head())"
   ]
  }
 ],
 "metadata": {
  "kernelspec": {
   "display_name": "base",
   "language": "python",
   "name": "python3"
  },
  "language_info": {
   "codemirror_mode": {
    "name": "ipython",
    "version": 3
   },
   "file_extension": ".py",
   "mimetype": "text/x-python",
   "name": "python",
   "nbconvert_exporter": "python",
   "pygments_lexer": "ipython3",
   "version": "3.13.5"
  }
 },
 "nbformat": 4,
 "nbformat_minor": 5
}
